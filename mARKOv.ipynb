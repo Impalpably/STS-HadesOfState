{
  "nbformat": 4,
  "nbformat_minor": 0,
  "metadata": {
    "colab": {
      "provenance": []
    },
    "kernelspec": {
      "name": "python3",
      "display_name": "Python 3"
    },
    "language_info": {
      "name": "python"
    }
  },
  "cells": [
    {
      "cell_type": "code",
      "execution_count": 309,
      "metadata": {
        "colab": {
          "base_uri": "https://localhost:8080/"
        },
        "id": "AmKpZfcRrBko",
        "outputId": "460d9bab-50a0-4dce-da99-7cd6b1c26b2e"
      },
      "outputs": [
        {
          "output_type": "stream",
          "name": "stdout",
          "text": [
            "Looking in indexes: https://pypi.org/simple, https://us-python.pkg.dev/colab-wheels/public/simple/\n",
            "Requirement already satisfied: markovify in /usr/local/lib/python3.8/dist-packages (0.9.4)\n",
            "Requirement already satisfied: unidecode in /usr/local/lib/python3.8/dist-packages (from markovify) (1.3.6)\n"
          ]
        }
      ],
      "source": [
        "!pip install markovify"
      ]
    },
    {
      "cell_type": "code",
      "source": [
        "import markovify\n"
      ],
      "metadata": {
        "id": "Vn40hU96rRLB"
      },
      "execution_count": 3,
      "outputs": []
    },
    {
      "cell_type": "code",
      "source": [
        "# Get raw text as string.\n",
        "with open(\"./drive/MyDrive/Markovify/trumpdialogue.txt\") as f:\n",
        "    text = f.read()\n",
        "#print(text)\n"
      ],
      "metadata": {
        "id": "qQuZJwTBszJt"
      },
      "execution_count": 203,
      "outputs": []
    },
    {
      "cell_type": "code",
      "source": [
        "# Build the model.\n",
        "\n",
        "text_model = markovify.Text(text,state_size=1)"
      ],
      "metadata": {
        "id": "Tce6czibs1YY"
      },
      "execution_count": 264,
      "outputs": []
    },
    {
      "cell_type": "markdown",
      "source": [
        "# PRINT"
      ],
      "metadata": {
        "id": "SIBSLxbHs0Zq"
      }
    },
    {
      "cell_type": "code",
      "source": [
        "print(text_model.make_sentence())"
      ],
      "metadata": {
        "colab": {
          "base_uri": "https://localhost:8080/"
        },
        "id": "2yPdrPOuxddc",
        "outputId": "08031b14-fc07-4c4e-ea59-0ee18b4a370c"
      },
      "execution_count": 308,
      "outputs": [
        {
          "output_type": "stream",
          "name": "stdout",
          "text": [
            "I do so she runs so she can be exposed and losers and haters, but my IQ is an American disgrace! the questions were born fucked up.\n"
          ]
        }
      ]
    },
    {
      "cell_type": "markdown",
      "source": [
        "# MAKE SENTENCES"
      ],
      "metadata": {
        "id": "TAImD6Q2swWc"
      }
    },
    {
      "cell_type": "code",
      "source": [
        "# Print five randomly-generated sentences\n",
        "#for i in range(3):\n",
        "#    print(text_model.make_sentence())\n",
        "\n",
        "# Print three randomly-generated sentences of no more than 280 characters\n",
        "for i in range(3):\n",
        "    print(text_model.make_short_sentence(100))"
      ],
      "metadata": {
        "colab": {
          "base_uri": "https://localhost:8080/"
        },
        "id": "kIpUUjVWs2wb",
        "outputId": "4092a2d2-a6d2-4053-e749-5744c77747ed"
      },
      "execution_count": 294,
      "outputs": [
        {
          "output_type": "stream",
          "name": "stdout",
          "text": [
            "The Miss Universe Pageant will bring our countries together!\n",
            "I fully understand why her for a good decision.\n",
            "The Miss Universe Pageant will bring our countries together!\n"
          ]
        }
      ]
    }
  ]
}